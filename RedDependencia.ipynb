{
  "nbformat": 4,
  "nbformat_minor": 0,
  "metadata": {
    "colab": {
      "provenance": [],
      "authorship_tag": "ABX9TyPVqFtQ6J/Y/ZieJ3vWK1TY",
      "include_colab_link": true
    },
    "kernelspec": {
      "name": "python3",
      "display_name": "Python 3"
    },
    "language_info": {
      "name": "python"
    }
  },
  "cells": [
    {
      "cell_type": "markdown",
      "metadata": {
        "id": "view-in-github",
        "colab_type": "text"
      },
      "source": [
        "<a href=\"https://colab.research.google.com/github/monimoreno2905/SegundoParcial/blob/main/RedDependencia.ipynb\" target=\"_parent\"><img src=\"https://colab.research.google.com/assets/colab-badge.svg\" alt=\"Open In Colab\"/></a>"
      ]
    },
    {
      "cell_type": "markdown",
      "source": [
        "Se plantea el modelo con la función de costos de la medida de dependencia COCO"
      ],
      "metadata": {
        "id": "BBI6ip9_yPbJ"
      }
    },
    {
      "cell_type": "markdown",
      "source": [
        "1. LIBRERIAS GENERALES"
      ],
      "metadata": {
        "id": "jWWXsFjw-iUq"
      }
    },
    {
      "cell_type": "code",
      "source": [
        "import tensorflow as tf\n",
        "from tensorflow import keras\n",
        "assert tf.__version__ >= \"2.0\"\n",
        "\n",
        "# en este contexto numpy se utiliza para hacer algunas operaciones matemáticas y definir arreglos\n",
        "import numpy as np\n",
        "#En este ejercicio básicamente se utiliza para manipular directorios\n",
        "import os\n",
        "\n",
        "from tensorflow.keras import layers\n",
        "\n",
        "# Con esto se garantiza que produzcan los mismos resultados cada vez que se ejecuta el código\n",
        "np.random.seed(42)\n",
        "tf.random.set_seed(42)\n",
        "\n",
        "# Librerias para la generación de gráficas\n",
        "%matplotlib inline\n",
        "import matplotlib as mpl\n",
        "import matplotlib.pyplot as plt\n",
        "from tensorflow.keras import layers, Model"
      ],
      "metadata": {
        "id": "Pv5QPWbbnfFp"
      },
      "execution_count": null,
      "outputs": []
    },
    {
      "cell_type": "markdown",
      "source": [
        "2. CARGA DE DATOS"
      ],
      "metadata": {
        "id": "Xbm8rcDq-omD"
      }
    },
    {
      "cell_type": "code",
      "source": [
        "(X_train_full, y_train_full), (X_test, y_test) = keras.datasets.fashion_mnist.load_data()\n",
        "X_train_full = X_train_full.astype(np.float32) / 255 #normalización de los datos\n",
        "X_test = X_test.astype(np.float32) / 255\n",
        "X_train, X_valid = X_train_full[:-5000], X_train_full[-5000:] #Se toman solo algunos datos, no todos\n",
        "y_train, y_valid = y_train_full[:-5000], y_train_full[-5000:]"
      ],
      "metadata": {
        "id": "R0CfOkF4nOCq"
      },
      "execution_count": null,
      "outputs": []
    },
    {
      "cell_type": "markdown",
      "source": [
        "3. FUNCIONES PARA CALCULAR F Y G de acuerdo a las ecuaciones del Kernel reproductor.\n",
        "\n",
        "Para no tener problemas en las dimensiones para realizar operaciones más adelante en la función de costos, tenemos;\n",
        "\n",
        "$f=X^{T}Hα  \\in R^{784x1}$\n",
        "\n",
        "$g=Y^{T}Hβ  \\in R^{1x1}$\n",
        "\n",
        "$C{xy}=X^{T}HY ∈ R^{784x1}$\n",
        "\n",
        "y la función de costos evaluada\n",
        "\n",
        "$L(f, g, \\lambda, \\gamma) = -f^{T} C_{XY} g + \\frac{\\lambda}{2} \\|f\\|^2_F - 1 + \\frac{\\gamma}{2} \\|g\\|^2_G - 1\n",
        "$"
      ],
      "metadata": {
        "id": "mYk3ZvuU-qLR"
      }
    },
    {
      "cell_type": "code",
      "source": [
        "\"\"\"Función para calcular f\n",
        "X son las imágenes\n",
        "pesos_alpha son los pesos de la capa alpha\n",
        "\"\"\"\n",
        "def calculate_f(X,H,pesos_alpha):\n",
        "  x_flat = tf.cast(tf.reshape(X, [tf.shape(X)[0], -1]), tf.float32)\n",
        "  f = tf.linalg.matmul(tf.linalg.matmul(tf.transpose(x_flat),H), pesos_alpha)\n",
        "  return f"
      ],
      "metadata": {
        "id": "VcGGz2EUXlFT"
      },
      "execution_count": null,
      "outputs": []
    },
    {
      "cell_type": "code",
      "source": [
        "\"\"\"Función para calcular g\n",
        "Y son las etiquetas de las imágenes\n",
        "pesos_betha son los pesos de la capa betha\n",
        "\"\"\"\n",
        "def calculate_g(Y,H,pesos_Betha):\n",
        "  Y = tf.cast(Y, tf.float32)\n",
        "  g = tf.linalg.matmul(tf.linalg.matmul(tf.transpose(Y),H), pesos_Betha)\n",
        "  return g"
      ],
      "metadata": {
        "id": "PXDKc9EOY9qO"
      },
      "execution_count": null,
      "outputs": []
    },
    {
      "cell_type": "code",
      "source": [
        "\"\"\"Función para calcular Cxy\n",
        "X son las imágenes\n",
        "Y las etiquetas\n",
        "\"\"\"\n",
        "def calculate_Cxy(X,H,Y):\n",
        "  x_flat = tf.cast(tf.reshape(X, [tf.shape(X)[0], -1]), tf.float32)\n",
        "  Cxy = tf.linalg.matmul(tf.linalg.matmul(tf.transpose(x_flat),H), Y)\n",
        "  return Cxy"
      ],
      "metadata": {
        "id": "xvsVqHfjj1-J"
      },
      "execution_count": null,
      "outputs": []
    },
    {
      "cell_type": "code",
      "source": [
        "\"\"\"Función para calcular kernels\"\"\"\n",
        "import tensorflow_probability as tfp\n",
        "\n",
        "#Se importa un kernel gaussiano con el valor óptimo de sigma\n",
        "sigma = 11.44  # Valor de sigma óptimo\n",
        "gaussian_kernel = tfp.math.psd_kernels.ExponentiatedQuadratic(length_scale=sigma) #Kernel gaussiano ecuación 2\n",
        "\n",
        "#Kernel aplicado a los datos\n",
        "def kernel_matrix(x, y):\n",
        "    # Aplanar las imágenes\n",
        "    x_flat = tf.cast(tf.reshape(x, [tf.shape(x)[0], -1]), tf.float32)  # Aplana x a [x_size, m*n]\n",
        "    y_flat = tf.cast(tf.reshape(y, [tf.shape(y)[0], -1]), tf.float32)  # Aplana y a [y_size, m*n]\n",
        "\n",
        "    # Calcular la matriz del kernel\n",
        "    return gaussian_kernel.matrix(x_flat, y_flat)  # Cambiado a .matrix"
      ],
      "metadata": {
        "id": "bD7BioR4junr"
      },
      "execution_count": null,
      "outputs": []
    },
    {
      "cell_type": "code",
      "source": [
        "\"\"\"Función para definir el loss\"\"\"\n",
        "def loss_custom(f,g,Cxy,K,L,n):\n",
        "  lambda_param = tf.reduce_sum(tf.sqrt(tf.matmul(K,L)))/n\n",
        "  gamma_param = lambda_param\n",
        "  J = -tf.matmul(tf.matmul(tf.transpose(f), Cxy), g) + \\\n",
        "    (lambda_param / 2) * tf.matmul(tf.transpose(f), f) + \\\n",
        "    (gamma_param / 2) * tf.square(g)\n",
        "\n",
        "  return J"
      ],
      "metadata": {
        "id": "USrLLTdjd4jz"
      },
      "execution_count": null,
      "outputs": []
    },
    {
      "cell_type": "markdown",
      "source": [
        "4. EVALUACIÓN EN PUNTOS INDUCIDOS"
      ],
      "metadata": {
        "id": "fgew-bbcyhg5"
      }
    },
    {
      "cell_type": "code",
      "source": [
        "#Se escogen los datos\n",
        "X=X_train[::50]\n",
        "Y=y_train[::50]\n",
        "Y=Y.reshape(-1,1)\n",
        "#Se calculan los kernels y otros parametros\n",
        "n = tf.shape(X)[0]\n",
        "n = tf.cast(n, tf.float32)\n",
        "H = tf.eye(n, dtype=tf.float32) - (1/n) * tf.ones((n, n), dtype=tf.float32)\n",
        "K = kernel_matrix(X, X) #Kernel de imágenes\n",
        "L = kernel_matrix(Y, Y) #Kernel de etiquetas\n",
        "#Se calculan los pesos de acuerdo a las ecuaciones de los anotes\n",
        "n = tf.cast(n, tf.int32)\n",
        "pesos_alpha = tf.random.normal(shape=(n, 1), mean=0.0, stddev=1.0, dtype=tf.float32)\n",
        "pesos_betha=tf.matmul(tf.divide(tf.sqrt(tf.matmul(K,L)),L),pesos_alpha)\n",
        "#Se aplican las funciones\n",
        "f=calculate_f(X,H,pesos_alpha)\n",
        "g=calculate_g(Y,H,pesos_betha)\n",
        "Cxy=calculate_Cxy(X,H,Y)\n",
        "#Se calcula la función de costos\n",
        "n = tf.cast(n, tf.float32)\n",
        "J=loss_custom(f,g,Cxy,K,L,n)\n",
        "print(J)"
      ],
      "metadata": {
        "colab": {
          "base_uri": "https://localhost:8080/"
        },
        "id": "MZQa_9MGjYNb",
        "outputId": "f8cb0bd3-c21b-4fe4-8efe-58bbef8f8dd3"
      },
      "execution_count": null,
      "outputs": [
        {
          "output_type": "stream",
          "name": "stdout",
          "text": [
            "tf.Tensor([[5.8963794e+14]], shape=(1, 1), dtype=float32)\n"
          ]
        }
      ]
    },
    {
      "cell_type": "code",
      "source": [
        "#Ahora se despeja de g calculada anteriormente el valor de Y\n",
        "#A diferencia de g, todos los demás parametros vuelven a calcularse\n",
        "X=X_test[::50]\n",
        "Y=y_test[::50]\n",
        "Y=Y.reshape(-1,1)\n",
        "n = tf.shape(X)[0]\n",
        "n = tf.cast(n, tf.float32)\n",
        "H = tf.eye(n, dtype=tf.float32) - (1/n) * tf.ones((n, n), dtype=tf.float32)\n",
        "K = kernel_matrix(X, X)\n",
        "L = kernel_matrix(Y, Y)\n",
        "\n",
        "n = tf.cast(n, tf.int32)\n",
        "pesos_alpha = tf.random.normal(shape=(n, 1), mean=0.0, stddev=1.0, dtype=tf.float32)\n",
        "pesos_betha=tf.matmul(tf.divide(tf.sqrt(tf.matmul(K,L)),L),pesos_alpha)\n",
        "#Se obtienen las nuevas etiquetas\n",
        "YNew=g/tf.matmul(H,pesos_betha)"
      ],
      "metadata": {
        "id": "9EXXFfPkud8S"
      },
      "execution_count": null,
      "outputs": []
    }
  ]
}