{
  "cells": [
    {
      "cell_type": "markdown",
      "metadata": {
        "id": "view-in-github",
        "colab_type": "text"
      },
      "source": [
        "<a href=\"https://colab.research.google.com/github/monimoreno2905/SegundoParcial/blob/main/Costos_MMD.ipynb\" target=\"_parent\"><img src=\"https://colab.research.google.com/assets/colab-badge.svg\" alt=\"Open In Colab\"/></a>"
      ]
    },
    {
      "cell_type": "markdown",
      "metadata": {
        "id": "WQ7yC_4FkGqo"
      },
      "source": [
        "Este código contiene la implementación de un autoencoder variacional para la reconstrucción de imágenes de fasion m-nist. Adicionalmente se utiliza un custom loss definido por maximum mean discrepancy con kernels gausianos."
      ]
    },
    {
      "cell_type": "markdown",
      "metadata": {
        "id": "WdYigwqh5whf"
      },
      "source": [
        "1. IMPORTAR LIBRERIAS"
      ]
    },
    {
      "cell_type": "code",
      "execution_count": 1,
      "metadata": {
        "colab": {
          "base_uri": "https://localhost:8080/"
        },
        "id": "FQ3vTQkq5wh0",
        "outputId": "5e4a50e2-f1aa-48ad-8e08-e5b94f280ea9"
      },
      "outputs": [
        {
          "output_type": "stream",
          "name": "stdout",
          "text": [
            "Colab only includes TensorFlow 2.x; %tensorflow_version has no effect.\n"
          ]
        }
      ],
      "source": [
        "#Las siguientes dos librerias aseguran que se este usando la versión de python mayor a 3.5\n",
        "#de lo contrario detendrá la ejecución del programa\n",
        "import sys\n",
        "assert sys.version_info >= (3, 5)\n",
        "\n",
        "# Se verifica que se tenga una versión de sklearn mayor a 0.2.\n",
        "#La libreria proporciona herramientas para la ejecución de algortimos de clasificación, regresión, etc.\n",
        "import sklearn\n",
        "assert sklearn.__version__ >= \"0.20\"\n",
        "\n",
        "#Verifica si el entorno en donde se está ejeutando el código es collab\n",
        "try:\n",
        "    # %tensorflow_version only exists in Colab.\n",
        "    %tensorflow_version 2.x\n",
        "    IS_COLAB = True\n",
        "except Exception:\n",
        "    IS_COLAB = False\n",
        "\n",
        "#Importa y verifica la versión de tensorflow que es una libreria que sirve para crear modelos de redes neuronales\n",
        "import tensorflow as tf\n",
        "from tensorflow import keras\n",
        "assert tf.__version__ >= \"2.0\"\n",
        "\n",
        "#Realiza la detección de GPU\n",
        "if not tf.config.list_physical_devices('GPU'):\n",
        "    print(\"No GPU was detected. LSTMs and CNNs can be very slow without a GPU.\")\n",
        "    if IS_COLAB:\n",
        "        print(\"Go to Runtime > Change runtime and select a GPU hardware accelerator.\")\n",
        "\n",
        "# en este contexto numpy se utiliza para hacer algunas operaciones matemáticas y definir arreglos\n",
        "import numpy as np\n",
        "#En este ejercicio básicamente se utiliza para manipular directorios\n",
        "import os\n",
        "\n",
        "from tensorflow.keras import layers\n",
        "\n",
        "# Con esto se garantiza que produzcan los mismos resultados cada vez que se ejecuta el código\n",
        "np.random.seed(42)\n",
        "tf.random.set_seed(42)\n",
        "\n",
        "# Librerias para la generación de gráficas\n",
        "%matplotlib inline\n",
        "import matplotlib as mpl\n",
        "import matplotlib.pyplot as plt\n",
        "#configurar etiquetas de los ejes, tamaños etc\n",
        "mpl.rc('axes', labelsize=14)\n",
        "mpl.rc('xtick', labelsize=12)\n",
        "mpl.rc('ytick', labelsize=12)"
      ]
    },
    {
      "cell_type": "markdown",
      "metadata": {
        "id": "lDQKSV4M32Qk"
      },
      "source": [
        "2. FUNCIONES GENERALES"
      ]
    },
    {
      "cell_type": "code",
      "execution_count": 2,
      "metadata": {
        "id": "R2Dk13LA387Z"
      },
      "outputs": [],
      "source": [
        "\"\"\"Esta funció grafica imágenes originales vs reconstruidas del mnist después de aplicar el modelo encoder, decoder\n",
        "Los datos que se le ingresa son: el modelo de reconstrucción, las imágenes originales de las cuales siempre se van a graficar cinco\"\"\"\n",
        "def show_reconstructions(model, images, n_images=5):\n",
        "    reconstructions = model.predict(images[:n_images]) #aplica el modelo de autoencoer para sacar imagenes reconstruidas\n",
        "    fig = plt.figure(figsize=(n_images * 1.5, 3)) #Establece los parámetros de la figura como por ejemplo el tamaño\n",
        "    for image_index in range(n_images): #En cada iteración, dibuja la imagen original y su reconstrucción correspondiente en la figura.\n",
        "        plt.subplot(2, n_images, 1 + image_index) #grafica imágenes originales\n",
        "        plot_image(images[image_index])\n",
        "        plt.subplot(2, n_images, 1 + n_images + image_index) #grafica reconstrucciones\n",
        "        plot_image(reconstructions[image_index])\n",
        "\n",
        "def plot_image(image):\n",
        "    plt.imshow(image, cmap=\"binary\")\n",
        "    plt.axis(\"off\")"
      ]
    },
    {
      "cell_type": "code",
      "execution_count": 3,
      "metadata": {
        "id": "UsP1S6qw4Wpw"
      },
      "outputs": [],
      "source": [
        "\"\"\"Convierte las probabilidades en un problema de clasificación binaria\n",
        "redondea las etiquetas verdaderas y predichas a un valor binario\n",
        "esto suele hacerse para realizar una comparación más suave y flexible\n",
        "La función se utilizará para compilar los modelos más adelante\"\"\"\n",
        "def rounded_accuracy(y_true, y_pred):\n",
        "    return keras.metrics.binary_accuracy(tf.round(y_true), tf.round(y_pred))"
      ]
    },
    {
      "cell_type": "markdown",
      "metadata": {
        "id": "yUbuApcX5wh5"
      },
      "source": [
        "3. CARGAR LA BASE DE DATOS FASHION-MNIST:\n"
      ]
    },
    {
      "cell_type": "code",
      "execution_count": 4,
      "metadata": {
        "colab": {
          "base_uri": "https://localhost:8080/"
        },
        "id": "ErItgy5x5wh5",
        "outputId": "645bc8c6-a197-413c-c49f-2ee93caf1e60"
      },
      "outputs": [
        {
          "output_type": "stream",
          "name": "stdout",
          "text": [
            "Downloading data from https://storage.googleapis.com/tensorflow/tf-keras-datasets/train-labels-idx1-ubyte.gz\n",
            "\u001b[1m29515/29515\u001b[0m \u001b[32m━━━━━━━━━━━━━━━━━━━━\u001b[0m\u001b[37m\u001b[0m \u001b[1m0s\u001b[0m 0us/step\n",
            "Downloading data from https://storage.googleapis.com/tensorflow/tf-keras-datasets/train-images-idx3-ubyte.gz\n",
            "\u001b[1m26421880/26421880\u001b[0m \u001b[32m━━━━━━━━━━━━━━━━━━━━\u001b[0m\u001b[37m\u001b[0m \u001b[1m0s\u001b[0m 0us/step\n",
            "Downloading data from https://storage.googleapis.com/tensorflow/tf-keras-datasets/t10k-labels-idx1-ubyte.gz\n",
            "\u001b[1m5148/5148\u001b[0m \u001b[32m━━━━━━━━━━━━━━━━━━━━\u001b[0m\u001b[37m\u001b[0m \u001b[1m0s\u001b[0m 0us/step\n",
            "Downloading data from https://storage.googleapis.com/tensorflow/tf-keras-datasets/t10k-images-idx3-ubyte.gz\n",
            "\u001b[1m4422102/4422102\u001b[0m \u001b[32m━━━━━━━━━━━━━━━━━━━━\u001b[0m\u001b[37m\u001b[0m \u001b[1m0s\u001b[0m 0us/step\n"
          ]
        }
      ],
      "source": [
        "\"\"\"Se carga la base de datos fashion mnist que dispone de imágenes de prendas,\n",
        "dichas imágenes están en escala de grises y tienen un tamaño de 28x28 píxeles.\n",
        "Hay 10 clases diferentes\"\"\"\n",
        "(X_train_full, y_train_full), (X_test, y_test) = keras.datasets.fashion_mnist.load_data()\n",
        "X_train_full = X_train_full.astype(np.float32) / 255 #normalización de los datos\n",
        "X_test = X_test.astype(np.float32) / 255\n",
        "X_train, X_valid = X_train_full[:-5000], X_train_full[-5000:] #Se toman solo algunos datos, no todos\n",
        "y_train, y_valid = y_train_full[:-5000], y_train_full[-5000:]"
      ]
    },
    {
      "cell_type": "markdown",
      "metadata": {
        "id": "nDNgGgU1Kk6m"
      },
      "source": [
        "4. DEFINIR MMD COMO FUNCIÓN DE COSTOS\n",
        "\n",
        "$\\text{MMD}^2(\\mathcal{F}, p, q) = \\mathbb{E}_{x,x' \\sim p} \\left[ k(x, x') \\right] + \\mathbb{E}_{y,y' \\sim q} \\left[ k(y, y') \\right] - 2 \\mathbb{E}_{x \\sim p, y \\sim q} \\left[ k(x, y) \\right]   Ecuación 1$\n",
        "\n",
        "\n",
        "Se hace uso de un kernel gaussiano\n",
        "\n",
        "$K(x, x') = \\exp \\left( - \\frac{\\| x - x' \\|^2}{2 \\sigma^2} \\right)   Ecuación 2$\n"
      ]
    },
    {
      "cell_type": "code",
      "execution_count": 5,
      "metadata": {
        "colab": {
          "base_uri": "https://localhost:8080/"
        },
        "id": "6mLzScU7SbLV",
        "outputId": "e323c6d9-bb12-40c9-bb44-471c4c1abcd7"
      },
      "outputs": [
        {
          "output_type": "execute_result",
          "data": {
            "text/plain": [
              "11.44417016933987"
            ]
          },
          "metadata": {},
          "execution_count": 5
        }
      ],
      "source": [
        "#Encontrar el valor óptimo de sigma\n",
        "from scipy.spatial.distance import cdist, squareform\n",
        "\n",
        "ind = np.argsort(y_test)\n",
        "X_test = X_test.reshape(X_test.shape[0],28*28)\n",
        "D=cdist(X_test[ind],X_test[ind])\n",
        "tU=squareform(D)\n",
        "np.median(tU)"
      ]
    },
    {
      "cell_type": "code",
      "execution_count": 6,
      "metadata": {
        "id": "JeUbUkLtLfhT"
      },
      "outputs": [],
      "source": [
        "import tensorflow_probability as tfp\n",
        "\n",
        "#Se importa un kernel gaussiano con el valor óptimo de sigma\n",
        "sigma = 11.44  # Valor de sigma óptimo\n",
        "gaussian_kernel = tfp.math.psd_kernels.ExponentiatedQuadratic(length_scale=sigma) #Kernel gaussiano ecuación 2\n",
        "\n",
        "#Kernel aplicado a los datos\n",
        "def kernel_matrix(x, y):\n",
        "    # Aplanar las imágenes\n",
        "    x_flat = tf.cast(tf.reshape(x, [tf.shape(x)[0], -1]), tf.float32)  # Aplana x a [x_size, m*n]\n",
        "    y_flat = tf.cast(tf.reshape(y, [tf.shape(y)[0], -1]), tf.float32)  # Aplana y a [y_size, m*n]\n",
        "\n",
        "    # Calcular la matriz del kernel\n",
        "    return gaussian_kernel.matrix(x_flat, y_flat)  # Cambiado a .matrix\n",
        "\n",
        "#Función de costo mmd\n",
        "def mmd_loss(x, y):\n",
        "    xx = kernel_matrix(x, x) #Kernel sobre datos originales vs originales\n",
        "    yy = kernel_matrix(y, y) #kernel sobre datos reconstruidos vs reconstruidos\n",
        "    xy = kernel_matrix(x, y) #Kernel sobre datos originales vs reconstruidos\n",
        "\n",
        "    #Se implementa la raiz cuadrada de la ecuación 1\n",
        "    return tf.sqrt(tf.reduce_mean(xx) + tf.reduce_mean(yy) - 2 * tf.reduce_mean(xy))"
      ]
    },
    {
      "cell_type": "markdown",
      "metadata": {
        "id": "hg0Golg4rioU"
      },
      "source": [
        "5. ENTRENAMIENTO AUTOENCODER VARIACIONAL"
      ]
    },
    {
      "cell_type": "code",
      "execution_count": 7,
      "metadata": {
        "colab": {
          "base_uri": "https://localhost:8080/"
        },
        "id": "TAKZfwlnpz1L",
        "outputId": "5d80a989-7e46-462e-e47e-25512acf94c9"
      },
      "outputs": [
        {
          "output_type": "stream",
          "name": "stderr",
          "text": [
            "/usr/local/lib/python3.10/dist-packages/keras/src/layers/reshaping/reshape.py:39: UserWarning: Do not pass an `input_shape`/`input_dim` argument to a layer. When using Sequential models, prefer using an `Input(shape)` object as the first layer in the model instead.\n",
            "  super().__init__(**kwargs)\n",
            "/usr/local/lib/python3.10/dist-packages/keras/src/layers/convolutional/base_conv_transpose.py:94: UserWarning: Do not pass an `input_shape`/`input_dim` argument to a layer. When using Sequential models, prefer using an `Input(shape)` object as the first layer in the model instead.\n",
            "  super().__init__(\n"
          ]
        },
        {
          "output_type": "stream",
          "name": "stdout",
          "text": [
            "Epoch 1/10\n",
            "\u001b[1m6875/6875\u001b[0m \u001b[32m━━━━━━━━━━━━━━━━━━━━\u001b[0m\u001b[37m\u001b[0m \u001b[1m29s\u001b[0m 3ms/step - loss: 0.9184 - mse: 0.0713 - val_loss: 0.1845 - val_mse: 0.0248\n",
            "Epoch 2/10\n",
            "\u001b[1m6875/6875\u001b[0m \u001b[32m━━━━━━━━━━━━━━━━━━━━\u001b[0m\u001b[37m\u001b[0m \u001b[1m34s\u001b[0m 3ms/step - loss: 0.1728 - mse: 0.0229 - val_loss: 0.1460 - val_mse: 0.0188\n",
            "Epoch 3/10\n",
            "\u001b[1m6875/6875\u001b[0m \u001b[32m━━━━━━━━━━━━━━━━━━━━\u001b[0m\u001b[37m\u001b[0m \u001b[1m20s\u001b[0m 3ms/step - loss: 0.1409 - mse: 0.0178 - val_loss: 0.1285 - val_mse: 0.0160\n",
            "Epoch 4/10\n",
            "\u001b[1m6875/6875\u001b[0m \u001b[32m━━━━━━━━━━━━━━━━━━━━\u001b[0m\u001b[37m\u001b[0m \u001b[1m20s\u001b[0m 3ms/step - loss: 0.1251 - mse: 0.0152 - val_loss: 0.1171 - val_mse: 0.0142\n",
            "Epoch 5/10\n",
            "\u001b[1m6875/6875\u001b[0m \u001b[32m━━━━━━━━━━━━━━━━━━━━\u001b[0m\u001b[37m\u001b[0m \u001b[1m20s\u001b[0m 3ms/step - loss: 0.1149 - mse: 0.0136 - val_loss: 0.1092 - val_mse: 0.0129\n",
            "Epoch 6/10\n",
            "\u001b[1m6875/6875\u001b[0m \u001b[32m━━━━━━━━━━━━━━━━━━━━\u001b[0m\u001b[37m\u001b[0m \u001b[1m20s\u001b[0m 3ms/step - loss: 0.1079 - mse: 0.0125 - val_loss: 0.1037 - val_mse: 0.0120\n",
            "Epoch 7/10\n",
            "\u001b[1m6875/6875\u001b[0m \u001b[32m━━━━━━━━━━━━━━━━━━━━\u001b[0m\u001b[37m\u001b[0m \u001b[1m18s\u001b[0m 3ms/step - loss: 0.1027 - mse: 0.0117 - val_loss: 0.0995 - val_mse: 0.0113\n",
            "Epoch 8/10\n",
            "\u001b[1m6875/6875\u001b[0m \u001b[32m━━━━━━━━━━━━━━━━━━━━\u001b[0m\u001b[37m\u001b[0m \u001b[1m22s\u001b[0m 3ms/step - loss: 0.0988 - mse: 0.0110 - val_loss: 0.0963 - val_mse: 0.0107\n",
            "Epoch 9/10\n",
            "\u001b[1m6875/6875\u001b[0m \u001b[32m━━━━━━━━━━━━━━━━━━━━\u001b[0m\u001b[37m\u001b[0m \u001b[1m19s\u001b[0m 3ms/step - loss: 0.0957 - mse: 0.0105 - val_loss: 0.0936 - val_mse: 0.0102\n",
            "Epoch 10/10\n",
            "\u001b[1m6875/6875\u001b[0m \u001b[32m━━━━━━━━━━━━━━━━━━━━\u001b[0m\u001b[37m\u001b[0m \u001b[1m20s\u001b[0m 3ms/step - loss: 0.0930 - mse: 0.0100 - val_loss: 0.0912 - val_mse: 0.0098\n"
          ]
        }
      ],
      "source": [
        "\"\"\"Se entrena el sparse autoencoder pero usando mmd como función de costos\"\"\"\n",
        "tf.random.set_seed(42)\n",
        "np.random.seed(42)\n",
        "\n",
        "#se establece la arquitectura de manera secuencial\n",
        "conv_encoder = keras.models.Sequential([\n",
        "    keras.layers.Reshape([28, 28, 1], input_shape=[28, 28]),\n",
        "    #keras.layers.BatchNormalization(),\n",
        "    #keras.layers.Dropout(rate=0.2),\n",
        "    keras.layers.Conv2D(16, kernel_size=3, padding=\"SAME\", activation=\"leaky_relu\",kernel_initializer= 'LecunNormal'), #se conserva el tamaño original de las imágenes\n",
        "    keras.layers.MaxPool2D(pool_size=2), #se aplica pooling, esto permite reducir costo computacional\n",
        "    keras.layers.ActivityRegularization(l2=1e-3),\n",
        "    keras.layers.Conv2D(32, kernel_size=3, padding=\"SAME\", activation=\"leaky_relu\",kernel_initializer= 'LecunNormal'),\n",
        "    keras.layers.MaxPool2D(pool_size=2),\n",
        "    #keras.layers.Dropout(rate=0.2),\n",
        "    keras.layers.Conv2D(64, kernel_size=3, padding=\"SAME\", activation=\"selu\",kernel_initializer= 'LecunNormal'),\n",
        "    #kl_loss = kl_regularizer(z)\n",
        "    keras.layers.MaxPool2D(pool_size=2),\n",
        "    keras.layers.ActivityRegularization(l2=1e-3) #regularizador l2\n",
        "])\n",
        "#No se aplicaron cambios significativos, en realidad influyó más en los resultados la modificación del encoder\n",
        "conv_decoder = keras.models.Sequential([\n",
        "    keras.layers.Conv2DTranspose(32, kernel_size=3, strides=2, padding=\"VALID\", activation=\"leaky_relu\",kernel_initializer= 'LecunNormal',\n",
        "                                 input_shape=[3, 3, 64]), #primera capa convolucional\n",
        "    keras.layers.ActivityRegularization(l2=1e-3), #solo se agregó este regularizador\n",
        "    keras.layers.Conv2DTranspose(16, kernel_size=3, strides=2, padding=\"SAME\", activation=\"selu\"),\n",
        "    keras.layers.Conv2DTranspose(1, kernel_size=3, strides=2, padding=\"SAME\", activation=\"sigmoid\"),\n",
        "    keras.layers.Reshape([28, 28]) #imagen reconstruida\n",
        "])\n",
        "#compilación del modelo\n",
        "conv_ae = keras.models.Sequential([conv_encoder, conv_decoder])\n",
        "\n",
        "conv_ae.compile(loss=mmd_loss, optimizer=keras.optimizers.Adam(learning_rate=0.0001, clipnorm=1.0),\n",
        "                metrics=['mse'])\n",
        "\n",
        "history = conv_ae.fit(X_train, X_train, epochs=10, batch_size=8,\n",
        "                      validation_data=(X_valid, X_valid))"
      ]
    },
    {
      "cell_type": "code",
      "execution_count": 8,
      "metadata": {
        "colab": {
          "base_uri": "https://localhost:8080/",
          "height": 280
        },
        "id": "VHPAU8xi5wiF",
        "outputId": "2ab143dd-a6b8-4c83-e5fb-deac1158623f"
      },
      "outputs": [
        {
          "output_type": "stream",
          "name": "stdout",
          "text": [
            "\u001b[1m1/1\u001b[0m \u001b[32m━━━━━━━━━━━━━━━━━━━━\u001b[0m\u001b[37m\u001b[0m \u001b[1m0s\u001b[0m 492ms/step\n"
          ]
        },
        {
          "output_type": "display_data",
          "data": {
            "text/plain": [
              "<Figure size 750x300 with 10 Axes>"
            ],
            "image/png": "[encoded data removed]"
          },
          "metadata": {}
        }
      ],
      "source": [
        "#Se grafican las reconstrucciones vs los datos originales\n",
        "show_reconstructions(conv_ae,X_valid)\n",
        "plt.show()"
      ]
    },
    {
      "cell_type": "code",
      "execution_count": 9,
      "metadata": {
        "colab": {
          "base_uri": "https://localhost:8080/",
          "height": 449
        },
        "id": "arRLf6wcr8W9",
        "outputId": "74edb09e-ef06-45fb-82d5-352d989ecd9a"
      },
      "outputs": [
        {
          "output_type": "display_data",
          "data": {
            "text/plain": [
              "<Figure size 800x500 with 1 Axes>"
            ],
            "image/png": "[encoded data removed]"
          },
          "metadata": {}
        }
      ],
      "source": [
        "#Se grafica MSE vs MMD\n",
        "import pandas as pd\n",
        "pd.DataFrame(history.history).plot(figsize=(8, 5))\n",
        "plt.grid(True)\n",
        "plt.show()"
      ]
    }
  ],
  "metadata": {
    "accelerator": "GPU",
    "colab": {
      "gpuType": "T4",
      "provenance": [],
      "include_colab_link": true
    },
    "kernelspec": {
      "display_name": "Python 3",
      "name": "python3"
    },
    "language_info": {
      "codemirror_mode": {
        "name": "ipython",
        "version": 3
      },
      "file_extension": ".py",
      "mimetype": "text/x-python",
      "name": "python",
      "nbconvert_exporter": "python",
      "pygments_lexer": "ipython3",
      "version": "3.7.6"
    },
    "nav_menu": {
      "height": "381px",
      "width": "453px"
    },
    "toc": {
      "navigate_menu": true,
      "number_sections": true,
      "sideBar": true,
      "threshold": 6,
      "toc_cell": false,
      "toc_section_display": "block",
      "toc_window_display": false
    }
  },
  "nbformat": 4,
  "nbformat_minor": 0
}